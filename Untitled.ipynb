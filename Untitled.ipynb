{
 "cells": [
  {
   "cell_type": "code",
   "execution_count": 1,
   "metadata": {},
   "outputs": [
    {
     "name": "stderr",
     "output_type": "stream",
     "text": [
      "Using TensorFlow backend.\n"
     ]
    }
   ],
   "source": [
    "import tensorflow as tf\n",
    "from keras.preprocessing.image import ImageDataGenerator"
   ]
  },
  {
   "cell_type": "code",
   "execution_count": 2,
   "metadata": {},
   "outputs": [
    {
     "name": "stdout",
     "output_type": "stream",
     "text": [
      "Found 8000 images belonging to 2 classes.\n"
     ]
    }
   ],
   "source": [
    "train_datagen=ImageDataGenerator(\n",
    "rescale=1./255,\n",
    "shear_range=0.2,\n",
    "zoom_range=0.2,\n",
    "horizontal_flip=True)\n",
    "\n",
    "training_set=train_datagen.flow_from_directory(\n",
    "'dataset/training_set',\n",
    "target_size=(64,64),\n",
    "batch_size=32,\n",
    "class_mode=\"binary\")"
   ]
  },
  {
   "cell_type": "code",
   "execution_count": 3,
   "metadata": {},
   "outputs": [
    {
     "name": "stdout",
     "output_type": "stream",
     "text": [
      "Found 2000 images belonging to 2 classes.\n"
     ]
    }
   ],
   "source": [
    "test_datagen=ImageDataGenerator(rescale=1./255)\n",
    "testing_set=test_datagen.flow_from_directory(\n",
    "'dataset/test_set',\n",
    "target_size=(64,64),\n",
    "batch_size=32,\n",
    "class_mode=\"binary\"\n",
    ")"
   ]
  },
  {
   "cell_type": "code",
   "execution_count": 4,
   "metadata": {},
   "outputs": [],
   "source": [
    "cnn=tf.keras.models.Sequential()"
   ]
  },
  {
   "cell_type": "code",
   "execution_count": 5,
   "metadata": {},
   "outputs": [],
   "source": [
    "cnn.add(tf.keras.layers.Conv2D(filters=32,kernel_size=3,activation='relu',input_shape=(64,64,3)))"
   ]
  },
  {
   "cell_type": "code",
   "execution_count": 6,
   "metadata": {},
   "outputs": [],
   "source": [
    "cnn.add(tf.keras.layers.MaxPool2D(pool_size=2,strides=2))"
   ]
  },
  {
   "cell_type": "code",
   "execution_count": 7,
   "metadata": {},
   "outputs": [],
   "source": [
    "cnn.add(tf.keras.layers.Conv2D(filters=32,kernel_size=3,activation='relu'))\n",
    "cnn.add(tf.keras.layers.MaxPool2D(pool_size=2,strides=2))"
   ]
  },
  {
   "cell_type": "code",
   "execution_count": 8,
   "metadata": {},
   "outputs": [],
   "source": [
    "cnn.add(tf.keras.layers.Flatten())"
   ]
  },
  {
   "cell_type": "code",
   "execution_count": 9,
   "metadata": {},
   "outputs": [],
   "source": [
    "cnn.add(tf.keras.layers.Dense(units=128,activation='relu'))"
   ]
  },
  {
   "cell_type": "code",
   "execution_count": 10,
   "metadata": {},
   "outputs": [],
   "source": [
    "cnn.add(tf.keras.layers.Dense(units=1,activation='sigmoid'))"
   ]
  },
  {
   "cell_type": "code",
   "execution_count": 11,
   "metadata": {},
   "outputs": [],
   "source": [
    "cnn.compile(optimizer='adam',loss=\"binary_crossentropy\",metrics=['accuracy'])"
   ]
  },
  {
   "cell_type": "code",
   "execution_count": 12,
   "metadata": {},
   "outputs": [
    {
     "name": "stdout",
     "output_type": "stream",
     "text": [
      "WARNING:tensorflow:sample_weight modes were coerced from\n",
      "  ...\n",
      "    to  \n",
      "  ['...']\n",
      "WARNING:tensorflow:sample_weight modes were coerced from\n",
      "  ...\n",
      "    to  \n",
      "  ['...']\n",
      "Train for 250 steps, validate for 63 steps\n",
      "Epoch 1/25\n",
      "250/250 [==============================] - 395s 2s/step - loss: 0.6878 - accuracy: 0.5439 - val_loss: 0.6965 - val_accuracy: 0.5815\n",
      "Epoch 2/25\n",
      "250/250 [==============================] - 102s 410ms/step - loss: 0.6455 - accuracy: 0.6327 - val_loss: 0.6348 - val_accuracy: 0.6410\n",
      "Epoch 3/25\n",
      "250/250 [==============================] - 104s 418ms/step - loss: 0.5925 - accuracy: 0.6851 - val_loss: 0.5629 - val_accuracy: 0.7035\n",
      "Epoch 4/25\n",
      "250/250 [==============================] - 103s 411ms/step - loss: 0.5515 - accuracy: 0.7176 - val_loss: 0.5497 - val_accuracy: 0.7365\n",
      "Epoch 5/25\n",
      "250/250 [==============================] - 107s 429ms/step - loss: 0.5255 - accuracy: 0.7364 - val_loss: 0.5203 - val_accuracy: 0.7410\n",
      "Epoch 6/25\n",
      "250/250 [==============================] - 110s 439ms/step - loss: 0.4979 - accuracy: 0.7525 - val_loss: 0.5761 - val_accuracy: 0.7100\n",
      "Epoch 7/25\n",
      "250/250 [==============================] - 106s 424ms/step - loss: 0.4890 - accuracy: 0.7576 - val_loss: 0.4834 - val_accuracy: 0.7725\n",
      "Epoch 8/25\n",
      "250/250 [==============================] - 107s 428ms/step - loss: 0.4664 - accuracy: 0.7765 - val_loss: 0.5290 - val_accuracy: 0.7300\n",
      "Epoch 9/25\n",
      "250/250 [==============================] - 103s 414ms/step - loss: 0.4527 - accuracy: 0.7834 - val_loss: 0.4653 - val_accuracy: 0.7895\n",
      "Epoch 10/25\n",
      "250/250 [==============================] - 105s 421ms/step - loss: 0.4356 - accuracy: 0.7977 - val_loss: 0.4823 - val_accuracy: 0.7790\n",
      "Epoch 11/25\n",
      "250/250 [==============================] - 110s 441ms/step - loss: 0.4086 - accuracy: 0.8115 - val_loss: 0.4675 - val_accuracy: 0.7865\n",
      "Epoch 12/25\n",
      "250/250 [==============================] - 103s 410ms/step - loss: 0.3936 - accuracy: 0.8189 - val_loss: 0.4665 - val_accuracy: 0.7885\n",
      "Epoch 13/25\n",
      "250/250 [==============================] - 83s 332ms/step - loss: 0.3811 - accuracy: 0.8245 - val_loss: 0.5004 - val_accuracy: 0.7770\n",
      "Epoch 14/25\n",
      "250/250 [==============================] - 51s 205ms/step - loss: 0.3560 - accuracy: 0.8407 - val_loss: 0.4704 - val_accuracy: 0.7985\n",
      "Epoch 15/25\n",
      "250/250 [==============================] - 53s 213ms/step - loss: 0.3525 - accuracy: 0.8418 - val_loss: 0.4684 - val_accuracy: 0.7935\n",
      "Epoch 16/25\n",
      "250/250 [==============================] - 52s 209ms/step - loss: 0.3293 - accuracy: 0.8566 - val_loss: 0.4680 - val_accuracy: 0.8040\n",
      "Epoch 17/25\n",
      "250/250 [==============================] - 52s 207ms/step - loss: 0.3292 - accuracy: 0.8512 - val_loss: 0.4851 - val_accuracy: 0.7955\n",
      "Epoch 18/25\n",
      "250/250 [==============================] - 54s 215ms/step - loss: 0.3031 - accuracy: 0.8664 - val_loss: 0.5264 - val_accuracy: 0.7880\n",
      "Epoch 19/25\n",
      "250/250 [==============================] - 64s 255ms/step - loss: 0.2785 - accuracy: 0.8820 - val_loss: 0.4858 - val_accuracy: 0.8045\n",
      "Epoch 20/25\n",
      "250/250 [==============================] - 62s 250ms/step - loss: 0.2730 - accuracy: 0.8857 - val_loss: 0.4642 - val_accuracy: 0.8150\n",
      "Epoch 21/25\n",
      "250/250 [==============================] - 57s 227ms/step - loss: 0.2542 - accuracy: 0.8909 - val_loss: 0.4941 - val_accuracy: 0.8080\n",
      "Epoch 22/25\n",
      "250/250 [==============================] - 56s 224ms/step - loss: 0.2432 - accuracy: 0.8981 - val_loss: 0.5083 - val_accuracy: 0.8045\n",
      "Epoch 23/25\n",
      "250/250 [==============================] - 57s 227ms/step - loss: 0.2332 - accuracy: 0.9056 - val_loss: 0.5871 - val_accuracy: 0.7855\n",
      "Epoch 24/25\n",
      "250/250 [==============================] - 56s 224ms/step - loss: 0.2204 - accuracy: 0.9086 - val_loss: 0.5138 - val_accuracy: 0.8105\n",
      "Epoch 25/25\n",
      "250/250 [==============================] - 58s 233ms/step - loss: 0.2031 - accuracy: 0.9176 - val_loss: 0.5342 - val_accuracy: 0.8090\n"
     ]
    },
    {
     "data": {
      "text/plain": [
       "<tensorflow.python.keras.callbacks.History at 0x2af7ed06908>"
      ]
     },
     "execution_count": 12,
     "metadata": {},
     "output_type": "execute_result"
    }
   ],
   "source": [
    "cnn.fit(training_set,validation_data=(testing_set),epochs=25)"
   ]
  },
  {
   "cell_type": "code",
   "execution_count": 13,
   "metadata": {},
   "outputs": [
    {
     "data": {
      "text/plain": [
       "{'cats': 0, 'dogs': 1}"
      ]
     },
     "execution_count": 13,
     "metadata": {},
     "output_type": "execute_result"
    }
   ],
   "source": [
    "training_set.class_indices"
   ]
  },
  {
   "cell_type": "code",
   "execution_count": 27,
   "metadata": {},
   "outputs": [
    {
     "name": "stdout",
     "output_type": "stream",
     "text": [
      "dog\n"
     ]
    }
   ],
   "source": [
    "import numpy as np\n",
    "from keras.preprocessing import image\n",
    "test_image=image.load_img('dataset/single_prediction/shiv.jpg',target_size=(64,64))\n",
    "test_image=image.img_to_array(test_image)\n",
    "test_image=np.expand_dims(test_image,axis=0)\n",
    "result=cnn.predict(test_image)\n",
    "if result==0:\n",
    "    print('cat')\n",
    "elif result==1:\n",
    "    print('dog')\n",
    "else:\n",
    "    print('human')"
   ]
  },
  {
   "cell_type": "code",
   "execution_count": null,
   "metadata": {},
   "outputs": [],
   "source": []
  }
 ],
 "metadata": {
  "kernelspec": {
   "display_name": "Python 3",
   "language": "python",
   "name": "python3"
  },
  "language_info": {
   "codemirror_mode": {
    "name": "ipython",
    "version": 3
   },
   "file_extension": ".py",
   "mimetype": "text/x-python",
   "name": "python",
   "nbconvert_exporter": "python",
   "pygments_lexer": "ipython3",
   "version": "3.7.4"
  }
 },
 "nbformat": 4,
 "nbformat_minor": 2
}
